{
 "metadata": {
  "language_info": {
   "codemirror_mode": {
    "name": "ipython",
    "version": 3
   },
   "file_extension": ".py",
   "mimetype": "text/x-python",
   "name": "python",
   "nbconvert_exporter": "python",
   "pygments_lexer": "ipython3",
   "version": "3.8.5-final"
  },
  "orig_nbformat": 2,
  "kernelspec": {
   "name": "python3",
   "display_name": "Python 3.8.5 32-bit ('fluent_venv')",
   "metadata": {
    "interpreter": {
     "hash": "b0c447155de33d2c3e5abdc30e011699c532a25563daba9e43120b2e37f367b6"
    }
   }
  }
 },
 "nbformat": 4,
 "nbformat_minor": 2,
 "cells": [
  {
   "source": [
    "# Summary \n",
    "- Tupples, lists and slices \n",
    "- built in sequence opperators \n",
    "    - *= and += opperators \n",
    "- www.pythontutor.com to visulize python bytecode"
   ],
   "cell_type": "markdown",
   "metadata": {}
  },
  {
   "cell_type": "code",
   "execution_count": 6,
   "metadata": {},
   "outputs": [
    {
     "output_type": "stream",
     "name": "stdout",
     "text": [
      "[['-', '-', '-'], ['-', '-', '-'], ['-', '-', '-']]\n[['-', '-', '-'], ['-', '-', 'x'], ['-', '-', '-']]\n"
     ]
    }
   ],
   "source": [
    "# The correct to create a chessboard using range(3)\n",
    "\n",
    "board = [[\"-\"]*3 for i in range(3)]\n",
    "print(board)\n",
    "board[1][2] = \"x\"\n",
    "print(board)"
   ]
  },
  {
   "cell_type": "code",
   "execution_count": 9,
   "metadata": {},
   "outputs": [
    {
     "output_type": "stream",
     "name": "stdout",
     "text": [
      "[['-', '-', '-'], ['-', '-', '-'], ['-', '-', '-']]\n[['-', '-', 'x'], ['-', '-', 'x'], ['-', '-', 'x']]\n[['-', '-', '-'], ['-', '-', '-'], ['-', '-', '-']]\n"
     ]
    }
   ],
   "source": [
    "# an incorrect way to create a chessboard \n",
    "\n",
    "weird_board = [[\"-\"] * 3] *3\n",
    "print(weird_board)\n",
    "weird_board[1][2] = \"x\"\n",
    "print(weird_board)\n",
    "\n",
    "# This is in effect one row copied three times, the outer list is made of three references \n",
    "# to the same inner list hence the x shows up in the [2] position of each row. By placing a\n",
    "# a mark in row 1, column2, we reveal that all rows are aliases referring to the same object \n",
    "# the above weird code is the same functionaly the same \n",
    "\n",
    "row = ['_'] * 3 \n",
    "board = []\n",
    "for i in range(3): \n",
    "    board.append(row)\n",
    "\n",
    "# wherease the list comprehension version is equel to the code:\n",
    "board = []\n",
    "for i in range(3):\n",
    "    row = ['-'] * 3 \n",
    "    board.append(row)\n",
    "print(board)\n",
    "\n",
    "board[1][2]"
   ]
  },
  {
   "source": [
    "## Augmented Assignment with Sequences \n",
    "\n",
    "+= and *= behave different based on the first opperator but the concepts from ugmented addition also apply to *=. \n",
    "The *special method* for += is \\__iadd\\__ \n",
    "- \\__iadd\\__  a += b works the same as a.extend(b)) \n",
    "\n",
    "if \\__iadd\\__ is not implemente python falls back on \\__add\\__ \n",
    "- a += b is the same as a = a + b \n",
    "- a+ b is evaluted first, producing a new object, which is then bound to a. \n",
    "- This means the identity of the object may or not change depending on the avaability of \\__iadd\\__ (\\__iadd\\__ does not crease a new object, add does)\n",
    "\n",
    "these also apply to *=\n"
   ],
   "cell_type": "markdown",
   "metadata": {}
  },
  {
   "cell_type": "code",
   "execution_count": 24,
   "metadata": {},
   "outputs": [
    {
     "output_type": "stream",
     "name": "stdout",
     "text": [
      "117995592\n117995592\n117996392\n"
     ]
    }
   ],
   "source": [
    "a = [\"a\"]\n",
    "print(id(a))\n",
    "b = [\"b\"] \n",
    "a.extend(b) # same id (__iadd__)\n",
    "print(id(a))\n",
    "a = a + b\n",
    "print(id(a)) # new id (using __add__)"
   ]
  },
  {
   "cell_type": "code",
   "execution_count": 28,
   "metadata": {},
   "outputs": [
    {
     "output_type": "stream",
     "name": "stdout",
     "text": [
      "120107144\n['1', '2', '3', '1', '2', '3', '1', '2', '3']\n120107144\n121339816\n14909760\n"
     ]
    }
   ],
   "source": [
    "# There is also a difference between mutalbe and immutable sequences \n",
    "\n",
    "l = ['1','2','3']\n",
    "print(id(l))\n",
    "l *= 3 \n",
    "print(l)\n",
    "print(id(l))\n",
    "\n",
    "t = ('1','2','3')\n",
    "print(id(t))\n",
    "t *= 3\n",
    "print(id(t))\n",
    "\n",
    "# Note that this is why concatination of immutable sequences is inefficient, because it means the interpreter \n",
    "# has to copy the contents the whole sequence when appending "
   ]
  },
  {
   "source": [
    "## list.sort and sorted() built in functions \n",
    "\n",
    "in python a function that modifies the object that is passed returns None, by comparison a function that creates a new object returns that new object. \n",
    "- list.sort method modifies the original object so returns None\n",
    "- sorted() is a function that returns a new object \n",
    "\n",
    "both accept the two arguemnts \n",
    "- reverse - reverses the ordering \n",
    "- key - a one argument function that will be applied as the sorting key\n",
    "\n",
    "### Timsort - the stable python sorting algorithm\n",
    "another importent aspect of python is that sorting is stabl. that means if you are for example sorting by length and you have two objects that are the same length, it preserves the original order.\n",
    "\n",
    "\n"
   ],
   "cell_type": "markdown",
   "metadata": {}
  },
  {
   "cell_type": "code",
   "execution_count": 43,
   "metadata": {},
   "outputs": [
    {
     "output_type": "stream",
     "name": "stdout",
     "text": [
      "['apple', 'bannana', 'grape', 'rasberry']\n['rasberry', 'grape', 'bannana', 'apple']\n['grape', 'apple', 'bannana', 'rasberry']\n['rasberry', 'bannana', 'grape', 'apple']\n['grape', 'rasberry', 'apple', 'bannana']\nNone\n['apple', 'bannana', 'grape', 'rasberry']\n"
     ]
    }
   ],
   "source": [
    "fruits = ['grape', 'rasberry', 'apple', 'bannana']\n",
    "print(sorted(fruits)) #  1) alphabetic \n",
    "print(sorted(fruits, reverse = True)) # 2) reverse of 1 \n",
    "\n",
    "print(sorted(fruits,key=len)) # sorts by word length - apple and grape are the same length, \n",
    "# preserves the original order fruits with grape appearing before apple\n",
    "\n",
    "print(sorted(fruits, key=len,reverse=True)) # this is not the revse of the above, with the stable sorting algorithm \n",
    "# once against putting grape before apple\n",
    "\n",
    "print(fruits)\n",
    "\n",
    "print(fruits.sort()) # returns None as it modifies the object \n",
    "print(fruits)        # sorted \n"
   ]
  },
  {
   "source": [
    "## Managing Ordered Sequences with bisect \n",
    "- bisect module offers two main functions - bisect and insert, which use a binary search algorithm to quicly find and insert items in any sorted sequence \n",
    "- bisect is faster than index on a long ordered list \n",
    "\n",
    "### searching with bisect\n",
    "bisect(haystack, needle) does a bnary search for needle in haystack (which must be a sorted sequence) to locate the position where needle can be inserted while maintaining haystack in ascending order \n",
    "\n",
    "- haystack = [10,20,30,40]\n",
    "- bisect(haystack,5) == 0  # index 0 before 10\n",
    "- bisect(haystack,15) == 1  # index 1 between 10 and 20 \n",
    "\n",
    "There is also optional arguments \"lo\" and \"hi\" which allow narrowing the region in the sequence to be search when inserting.\n",
    "- bisect is an alias for bisect_right which if needle is equel to an item in the haystack it is placed to the bisect_right\n",
    "- bisect_left place the needle to the left of an equel element of a sequence \n",
    "- bisect_left is usefull for grade scoring "
   ],
   "cell_type": "markdown",
   "metadata": {}
  },
  {
   "cell_type": "code",
   "execution_count": 44,
   "metadata": {},
   "outputs": [
    {
     "output_type": "stream",
     "name": "stdout",
     "text": [
      "DEMO: bisect_right\nhaystack ->  1  4  5  6  8 12 15 20 21 23 23 26 29 30\n31 @ 14      |  |  |  |  |  |  |  |  |  |  |  |  |  |31\n30 @ 14      |  |  |  |  |  |  |  |  |  |  |  |  |  |30\n29 @ 13      |  |  |  |  |  |  |  |  |  |  |  |  |29\n23 @ 11      |  |  |  |  |  |  |  |  |  |  |23\n22 @  9      |  |  |  |  |  |  |  |  |22\n10 @  5      |  |  |  |  |10\n 8 @  5      |  |  |  |  |8 \n 5 @  3      |  |  |5 \n 2 @  1      |2 \n 1 @  1      |1 \n 0 @  0    0 \n"
     ]
    }
   ],
   "source": [
    "import bisect\n",
    "import sys\n",
    "\n",
    "HAYSTACK = [1, 4, 5, 6, 8, 12, 15, 20, 21, 23, 23, 26, 29, 30]\n",
    "NEEDLES = [0, 1, 2, 5, 8, 10, 22, 23, 29, 30, 31]\n",
    "\n",
    "ROW_FMT = '{0:2d} @ {1:2d}    {2}{0:<2d}'\n",
    "\n",
    "def demo(bisect_fn):\n",
    "    for needle in reversed(NEEDLES):\n",
    "        position = bisect_fn(HAYSTACK, needle)  # <1>\n",
    "        offset = position * '  |'  # <2>\n",
    "        print(ROW_FMT.format(needle, position, offset))  # <3>\n",
    "\n",
    "if __name__ == '__main__':\n",
    "\n",
    "    if sys.argv[-1] == 'left':    # <4>\n",
    "        bisect_fn = bisect.bisect_left\n",
    "    else:\n",
    "        bisect_fn = bisect.bisect\n",
    "\n",
    "    print('DEMO:', bisect_fn.__name__)  # <5>\n",
    "    print('haystack ->', ' '.join('%2d' % n for n in HAYSTACK))\n",
    "    demo(bisect_fn)"
   ]
  },
  {
   "cell_type": "code",
   "execution_count": 52,
   "metadata": {},
   "outputs": [
    {
     "output_type": "execute_result",
     "data": {
      "text/plain": [
       "['F', 'A', 'C', 'D', 'B', 'B', 'A']"
      ]
     },
     "metadata": {},
     "execution_count": 52
    }
   ],
   "source": [
    "# bisect left version for grade scoring \n",
    "\n",
    "def grade(score, breakpoints =[60,70,80,90,100], grades = 'FDCBA'):\n",
    "    i = bisect.bisect_left(breakpoints,score)\n",
    "    return grades[i]\n",
    "\n",
    "[grade(score) for score in [33,99,77,70,89,90,100]]"
   ]
  },
  {
   "source": [
    "### inserting with bisect.insort \n",
    "sorting is expensive, so it is good to keep a sequence sorted. insort allows you to add elements to a sequence without disrupting the order. \n"
   ],
   "cell_type": "markdown",
   "metadata": {}
  },
  {
   "cell_type": "code",
   "execution_count": 53,
   "metadata": {},
   "outputs": [
    {
     "output_type": "stream",
     "name": "stdout",
     "text": [
      "10 -> [10]\n 0 -> [0, 10]\n 6 -> [0, 6, 10]\n 8 -> [0, 6, 8, 10]\n 7 -> [0, 6, 7, 8, 10]\n 2 -> [0, 2, 6, 7, 8, 10]\n10 -> [0, 2, 6, 7, 8, 10, 10]\n"
     ]
    }
   ],
   "source": [
    "import bisect\n",
    "import random\n",
    "\n",
    "SIZE = 7\n",
    "\n",
    "random.seed(1729)\n",
    "\n",
    "my_list = []\n",
    "for i in range(SIZE):\n",
    "    new_item = random.randrange(SIZE*2)\n",
    "    bisect.insort(my_list, new_item)\n",
    "    print('%2d ->' % new_item, my_list)"
   ]
  },
  {
   "source": [
    "## When a List is not the answer \n",
    "Lists are flexible but arrays are much more efficint storing large numbers of floats/integers. \n",
    "- this is because arrays dont hold actual float objects but packed bytes representing their machine values.  \n",
    "    - this is like the C language \n",
    "- if you are constantly adding and removing items from the ends of a list as a FIFO (first in first out) data structure, a deque (double eneded queue) works faster\n",
    "- sets are good for containment checks (is item in list) but are unordered \n",
    "\n",
    "### Arrays \n",
    "\n",
    "- if a list would only contain numbers an array is more efficient\n",
    "- an array supports all mutable sequence operations ( including pop, insert and extend) and fast loading and saving such as .frombytes and .tofile \n",
    "- between 10 - 50 times faster then saving and loading as a stinrg \n",
    "- allows comparison between 10**7 in 0.1 seconds \n",
    "- the *pickle module* is also very good at saving bytes along with any built in data type or user made class (if a simple structure)\n",
    "- as of python 3.4 arrays do not have a .sort() method but instead use the sorted() function.\n",
    "    - if you want to insert values while keeping order use the bisect/insort method covered above\n",
    "\n",
    "When creating an array you specify the type (e.g byte with 'b') which allows only integers between -128 to 127 to be stored "
   ],
   "cell_type": "markdown",
   "metadata": {}
  },
  {
   "cell_type": "code",
   "execution_count": 13,
   "metadata": {},
   "outputs": [
    {
     "output_type": "stream",
     "name": "stdout",
     "text": [
      "5.407123200000115\ncomparison time 0.7024925000000621\n"
     ]
    }
   ],
   "source": [
    "from timeit import default_timer as timer\n",
    "\n",
    "from array import array \n",
    "from random import random \n",
    "start = timer()\n",
    "floats = array('d', (random() for i in range(10**7)))\n",
    "floats[-1]\n",
    "fp = open('floats.bin', 'wb')\n",
    "floats.tofile(fp)\n",
    "fp.close()\n",
    "floats2 = array('d')\n",
    "fp = open('floats.bin','rb')\n",
    "floats2.fromfile(fp, 10**7)\n",
    "fp.close()\n",
    "comp_start = timer()\n",
    "floats2 == floats\n",
    "end = timer()\n",
    "print(end - start)\n",
    "print(f'comparison time {end - comp_start}')"
   ]
  },
  {
   "cell_type": "code",
   "execution_count": 19,
   "metadata": {},
   "outputs": [
    {
     "output_type": "stream",
     "name": "stdout",
     "text": [
      "10000000\n len time taken 0.00025240000013582176\n10000000\nitemsize method time taken 0.00024310000026162015 \n"
     ]
    }
   ],
   "source": [
    "start1 = timer()\n",
    "print(len(floats))\n",
    "end1 = timer()\n",
    "print(f' len time taken {end1 - start1}')\n",
    "\n",
    "start2 = timer()\n",
    "print((floats2.__len__()))\n",
    "end2 = timer()\n",
    "print(f'itemsize method time taken {end2 - start2} ')"
   ]
  },
  {
   "source": [
    "### Memory Views \n",
    "\n",
    "the memoryview class allows you to handle slices of arrays without copying bytes, keep in mind this is a deliberate shallow copy, if you modify the memory view bytes you change the original array.\n",
    "- memoryview allows you to share memory between data structures  without first copying, this allows mimimal memory usage for large datasets \n",
    "- memoryview.cast returns another memory view object which always shares the same memory \n"
   ],
   "cell_type": "markdown",
   "metadata": {}
  },
  {
   "cell_type": "code",
   "execution_count": 14,
   "metadata": {},
   "outputs": [
    {
     "output_type": "stream",
     "name": "stdout",
     "text": [
      "0\n"
     ]
    },
    {
     "output_type": "execute_result",
     "data": {
      "text/plain": [
       "array('h', [-2, -1, 0, 1, 2])"
      ]
     },
     "metadata": {},
     "execution_count": 14
    }
   ],
   "source": [
    "from array import array \n",
    "numbers = array('h',[-2,-1,0,1,2])\n",
    "memv = memoryview(numbers)  # 1)\n",
    "len(memv)\n",
    "memv[0] # 2)\n",
    "\n",
    "memv_oct = memv.cast('B')  #3)\n",
    "memv_oct.tolist() #4)\n",
    "print(memv_oct[4]) \n",
    "memv_oct[4] = 0 # 5)\n",
    "numbers\n",
    "\n",
    "# 1) buid memoryview from array of 5 short signed integers \n",
    "# 2) memv sees the same 5 itesm in the array \n",
    "# 3) create memv_oct by casting the elements of memv to typecode 'B' (unsigned char)\n",
    "# 4) Export elements of memv_oct as a list, for inspection \n",
    "# 5) assign vaue 4 to bye offset 5. \n",
    "# 6) Note change to numbers: a 4 in the most significant byte of a 2-byte unsigned integer is 1024"
   ]
  },
  {
   "cell_type": "code",
   "execution_count": null,
   "metadata": {},
   "outputs": [],
   "source": []
  },
  {
   "cell_type": "code",
   "execution_count": null,
   "metadata": {},
   "outputs": [],
   "source": []
  }
 ]
}